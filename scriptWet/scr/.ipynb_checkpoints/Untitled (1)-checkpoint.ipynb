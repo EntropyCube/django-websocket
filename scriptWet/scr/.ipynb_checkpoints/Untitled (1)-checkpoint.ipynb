{
 "cells": [
  {
   "cell_type": "code",
   "execution_count": 6,
   "id": "bf278b12-a6ad-4af2-8046-97432e210d2d",
   "metadata": {},
   "outputs": [],
   "source": [
    "import websocket,json, random,time"
   ]
  },
  {
   "cell_type": "code",
   "execution_count": 7,
   "id": "082b8be0",
   "metadata": {},
   "outputs": [],
   "source": [
    "ws=websocket.WebSocket()"
   ]
  },
  {
   "cell_type": "code",
   "execution_count": 8,
   "id": "d19738f3",
   "metadata": {},
   "outputs": [],
   "source": [
    "ws.connect('ws://localhost:8000/ws/receive_data/')"
   ]
  },
  {
   "cell_type": "code",
   "execution_count": 9,
   "id": "53806120",
   "metadata": {},
   "outputs": [],
   "source": [
    "listOfindex=['temperature','humidity','wind','atmospheric_pressure']"
   ]
  },
  {
   "cell_type": "code",
   "execution_count": 10,
   "id": "35abe5e6",
   "metadata": {},
   "outputs": [
    {
     "ename": "SyntaxError",
     "evalue": "invalid syntax (Temp/ipykernel_3124/3407829911.py, line 1)",
     "output_type": "error",
     "traceback": [
      "\u001b[1;36m  File \u001b[1;32m\"C:\\Users\\valknut\\AppData\\Local\\Temp/ipykernel_3124/3407829911.py\"\u001b[1;36m, line \u001b[1;32m1\u001b[0m\n\u001b[1;33m    while(flag=True):\u001b[0m\n\u001b[1;37m              ^\u001b[0m\n\u001b[1;31mSyntaxError\u001b[0m\u001b[1;31m:\u001b[0m invalid syntax\n"
     ]
    }
   ],
   "source": [
    "flag=True\n",
    "while(flag):\n",
    "    time.sleep(1)\n",
    "    pp=json.dumps({listOfindex[0]:random.randint(5,15),\n",
    "                  listOfindex[1]:random.randint(50,80),\n",
    "                  listOfindex[2]:round(random.uniform(2.2,6.7),1),\n",
    "                  listOfindex[3]:random.randint(752,768)})\n",
    "    ws.send(pp)\n",
    "    flag=False"
   ]
  },
  {
   "cell_type": "code",
   "execution_count": null,
   "id": "3e6a45bc",
   "metadata": {},
   "outputs": [],
   "source": []
  }
 ],
 "metadata": {
  "kernelspec": {
   "display_name": "Python 3 (ipykernel)",
   "language": "python",
   "name": "python3"
  },
  "language_info": {
   "codemirror_mode": {
    "name": "ipython",
    "version": 3
   },
   "file_extension": ".py",
   "mimetype": "text/x-python",
   "name": "python",
   "nbconvert_exporter": "python",
   "pygments_lexer": "ipython3",
   "version": "3.9.6"
  }
 },
 "nbformat": 4,
 "nbformat_minor": 5
}
